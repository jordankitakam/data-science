{
 "cells": [
  {
   "cell_type": "markdown",
   "id": "c75b5d1f-ae45-418c-92fe-da8d25eea37e",
   "metadata": {},
   "source": [
    "# Data Science Tools and Ecosystem"
   ]
  },
  {
   "cell_type": "markdown",
   "id": "92b4429e-470a-49f3-90b8-f56c88aa7eaa",
   "metadata": {},
   "source": [
    "# In this notebook, Data Science Tools and Ecosystem are summarized"
   ]
  },
  {
   "cell_type": "markdown",
   "id": "a02ab891-8997-4a7d-9871-217840a9901a",
   "metadata": {},
   "source": [
    "# **Objectives**:\n",
    "- List popular languages of data science\n",
    "- Indicate development environment open source tools used in data science.\n",
    "- Evaluating arithmetic expressions in Python\n",
    "  "
   ]
  },
  {
   "cell_type": "markdown",
   "id": "e62b1d9f-6bc9-4f79-af65-ad61300d24d7",
   "metadata": {},
   "source": [
    "# Some of the popular languages that Data Scientists use are:\n",
    "1. Python\n",
    "2. R\n",
    "3. Java\n",
    "4. SQL\n",
    "5. Julia"
   ]
  },
  {
   "cell_type": "markdown",
   "id": "cf3e2162-473f-4e82-9ad3-1691c493224a",
   "metadata": {},
   "source": [
    "# Some of the commonly used libraries by data scientists include:\n",
    "1. Pandas\n",
    "2. Numpy\n",
    "3. Seaborn\n",
    "4. Matplotlib\n",
    "5. Keras"
   ]
  },
  {
   "cell_type": "markdown",
   "id": "39da1793-164b-4333-b99a-77177b7c8d20",
   "metadata": {},
   "source": [
    "\n",
    "| Data Science Tools |\n",
    "|--------------------|\n",
    "|Jupyter notebook    |\n",
    "|RStudio             |\n",
    "|Apache Spark        |"
   ]
  },
  {
   "cell_type": "markdown",
   "id": "76305b7a-d118-4c73-b4f8-562cc149c3ad",
   "metadata": {},
   "source": [
    "### Below are a few examples of evaluating arithmetic expressions in python:\n",
    "1. Addition\n",
    "2. Subtraction\n",
    "3. Multiplication\n",
    "4. Division\n",
    "5. Combining Multiple Operations"
   ]
  },
  {
   "cell_type": "code",
   "execution_count": 7,
   "id": "ce240a53-0b0a-41a6-8614-a41e1aeaab5f",
   "metadata": {},
   "outputs": [
    {
     "data": {
      "text/plain": [
       "17"
      ]
     },
     "execution_count": 7,
     "metadata": {},
     "output_type": "execute_result"
    }
   ],
   "source": [
    "# This a simple arithmetic expression to mutiply then add integers\n",
    "Result= (3*4)+5\n",
    "Result"
   ]
  },
  {
   "cell_type": "code",
   "execution_count": 8,
   "id": "af9531e0-f7ea-4826-8ed1-c4c57698cd71",
   "metadata": {},
   "outputs": [
    {
     "data": {
      "text/plain": [
       "3.3333333333333335"
      ]
     },
     "execution_count": 8,
     "metadata": {},
     "output_type": "execute_result"
    }
   ],
   "source": [
    "# This will convert 200 minutes to hours by diving by 60\n",
    "minutes = 200\n",
    "hours = minutes/60\n",
    "hours"
   ]
  },
  {
   "cell_type": "markdown",
   "id": "05c23e10-7017-452e-b900-3c2e6cd68ecc",
   "metadata": {},
   "source": [
    "## Author\n",
    "Jordan Kitaka Mubiru"
   ]
  }
 ],
 "metadata": {
  "kernelspec": {
   "display_name": "Python 3 (ipykernel)",
   "language": "python",
   "name": "python3"
  },
  "language_info": {
   "codemirror_mode": {
    "name": "ipython",
    "version": 3
   },
   "file_extension": ".py",
   "mimetype": "text/x-python",
   "name": "python",
   "nbconvert_exporter": "python",
   "pygments_lexer": "ipython3",
   "version": "3.11.9"
  }
 },
 "nbformat": 4,
 "nbformat_minor": 5
}
